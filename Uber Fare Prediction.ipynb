{
 "cells": [
  {
   "cell_type": "markdown",
   "id": "c4780a6c",
   "metadata": {},
   "source": [
    "# About Dataset"
   ]
  },
  {
   "cell_type": "markdown",
   "id": "72a07dd2",
   "metadata": {},
   "source": [
    "# Problem Statement:\n",
    "The project is about world's largest taxi company Uber inc. In these project we're looking to predict the fare for their future transactional cases. And this company deliever services to lakhs of customers daily. Now it becomes really important to manage their data properly to come up with new business ideas to get best results. So, it becomes really important to estimate the fare prices accurately.    "
   ]
  },
  {
   "cell_type": "markdown",
   "id": "69092275",
   "metadata": {},
   "source": [
    "# Content:\n",
    "1. key - a unique identifier for each trip\n",
    "\n",
    "2. fare_amount - the cost of each trip in usd   = (Target Variable)\n",
    "\n",
    "3. pickup_datetime - date and time when the meter was engaged\n",
    "\n",
    "4. dropoff_latitude - the latitude where the meter was disengaged\n",
    "\n",
    "5. pickup_longitude - the longitude where the meter was engaged\n",
    "\n",
    "6. pickup_latitude - the latitude where the meter was engaged\n",
    "\n",
    "7. dropoff_longitude - the longitude where the meter was disengaged\n",
    "\n",
    "8. passenger_count - the number of passengers in the vehicle (driver entered value)"
   ]
  },
  {
   "cell_type": "markdown",
   "id": "a44ee4f0",
   "metadata": {},
   "source": [
    "# Objective:\n",
    "* Understand the Dataset & cleaning (if required).\n",
    "* Build Regression models to predict the fare price of uber ride.\n",
    "* Also evaluate the models & compare thier respective scores like R2, RMSE, etc."
   ]
  },
  {
   "cell_type": "markdown",
   "id": "23039d48",
   "metadata": {},
   "source": [
    "# Action Plan:\n",
    "1. Data Exploration\n",
    "2. Feature Engineering\n",
    "3. Exploratory Data Analysis (EDA)\n",
    "4. Data Pre-processing\n",
    "5. Data Manipulation\n",
    "6. Predictive Modelling\n",
    "7. Project Outcomes & Conclusion    "
   ]
  },
  {
   "cell_type": "markdown",
   "id": "d917e83e",
   "metadata": {},
   "source": [
    "# 1. Data Exploration"
   ]
  },
  {
   "cell_type": "code",
   "execution_count": 130,
   "id": "06f18332",
   "metadata": {},
   "outputs": [],
   "source": [
    "# Importing required libraries\n",
    "import pandas as pd       # used for data analysis\n",
    "import numpy as np        # used for mathematical calculations\n",
    "\n",
    "################# Machine Learning ################\n",
    "import statsmodels\n",
    "from statsmodels.stats.anova import anova_lm\n",
    "from statsmodels.stats.outliers_influence import variance_inflation_factor\n",
    "\n",
    "################# Data Visualization ################\n",
    "import seaborn as sns\n",
    "from matplotlib import pyplot as plt\n",
    "%matplotlib inline"
   ]
  },
  {
   "cell_type": "code",
   "execution_count": 131,
   "id": "16744731",
   "metadata": {},
   "outputs": [
    {
     "data": {
      "text/html": [
       "<div>\n",
       "<style scoped>\n",
       "    .dataframe tbody tr th:only-of-type {\n",
       "        vertical-align: middle;\n",
       "    }\n",
       "\n",
       "    .dataframe tbody tr th {\n",
       "        vertical-align: top;\n",
       "    }\n",
       "\n",
       "    .dataframe thead th {\n",
       "        text-align: right;\n",
       "    }\n",
       "</style>\n",
       "<table border=\"1\" class=\"dataframe\">\n",
       "  <thead>\n",
       "    <tr style=\"text-align: right;\">\n",
       "      <th></th>\n",
       "      <th>Unnamed: 0</th>\n",
       "      <th>key</th>\n",
       "      <th>fare_amount</th>\n",
       "      <th>pickup_datetime</th>\n",
       "      <th>pickup_longitude</th>\n",
       "      <th>pickup_latitude</th>\n",
       "      <th>dropoff_longitude</th>\n",
       "      <th>dropoff_latitude</th>\n",
       "      <th>passenger_count</th>\n",
       "    </tr>\n",
       "  </thead>\n",
       "  <tbody>\n",
       "    <tr>\n",
       "      <th>0</th>\n",
       "      <td>24238194</td>\n",
       "      <td>2015-05-07 19:52:06.0000003</td>\n",
       "      <td>7.5</td>\n",
       "      <td>2015-05-07 19:52:06 UTC</td>\n",
       "      <td>-73.999817</td>\n",
       "      <td>40.738354</td>\n",
       "      <td>-73.999512</td>\n",
       "      <td>40.723217</td>\n",
       "      <td>1</td>\n",
       "    </tr>\n",
       "    <tr>\n",
       "      <th>1</th>\n",
       "      <td>27835199</td>\n",
       "      <td>2009-07-17 20:04:56.0000002</td>\n",
       "      <td>7.7</td>\n",
       "      <td>2009-07-17 20:04:56 UTC</td>\n",
       "      <td>-73.994355</td>\n",
       "      <td>40.728225</td>\n",
       "      <td>-73.994710</td>\n",
       "      <td>40.750325</td>\n",
       "      <td>1</td>\n",
       "    </tr>\n",
       "    <tr>\n",
       "      <th>2</th>\n",
       "      <td>44984355</td>\n",
       "      <td>2009-08-24 21:45:00.00000061</td>\n",
       "      <td>12.9</td>\n",
       "      <td>2009-08-24 21:45:00 UTC</td>\n",
       "      <td>-74.005043</td>\n",
       "      <td>40.740770</td>\n",
       "      <td>-73.962565</td>\n",
       "      <td>40.772647</td>\n",
       "      <td>1</td>\n",
       "    </tr>\n",
       "    <tr>\n",
       "      <th>3</th>\n",
       "      <td>25894730</td>\n",
       "      <td>2009-06-26 08:22:21.0000001</td>\n",
       "      <td>5.3</td>\n",
       "      <td>2009-06-26 08:22:21 UTC</td>\n",
       "      <td>-73.976124</td>\n",
       "      <td>40.790844</td>\n",
       "      <td>-73.965316</td>\n",
       "      <td>40.803349</td>\n",
       "      <td>3</td>\n",
       "    </tr>\n",
       "    <tr>\n",
       "      <th>4</th>\n",
       "      <td>17610152</td>\n",
       "      <td>2014-08-28 17:47:00.000000188</td>\n",
       "      <td>16.0</td>\n",
       "      <td>2014-08-28 17:47:00 UTC</td>\n",
       "      <td>-73.925023</td>\n",
       "      <td>40.744085</td>\n",
       "      <td>-73.973082</td>\n",
       "      <td>40.761247</td>\n",
       "      <td>5</td>\n",
       "    </tr>\n",
       "  </tbody>\n",
       "</table>\n",
       "</div>"
      ],
      "text/plain": [
       "   Unnamed: 0                            key  fare_amount  \\\n",
       "0    24238194    2015-05-07 19:52:06.0000003          7.5   \n",
       "1    27835199    2009-07-17 20:04:56.0000002          7.7   \n",
       "2    44984355   2009-08-24 21:45:00.00000061         12.9   \n",
       "3    25894730    2009-06-26 08:22:21.0000001          5.3   \n",
       "4    17610152  2014-08-28 17:47:00.000000188         16.0   \n",
       "\n",
       "           pickup_datetime  pickup_longitude  pickup_latitude  \\\n",
       "0  2015-05-07 19:52:06 UTC        -73.999817        40.738354   \n",
       "1  2009-07-17 20:04:56 UTC        -73.994355        40.728225   \n",
       "2  2009-08-24 21:45:00 UTC        -74.005043        40.740770   \n",
       "3  2009-06-26 08:22:21 UTC        -73.976124        40.790844   \n",
       "4  2014-08-28 17:47:00 UTC        -73.925023        40.744085   \n",
       "\n",
       "   dropoff_longitude  dropoff_latitude  passenger_count  \n",
       "0         -73.999512         40.723217                1  \n",
       "1         -73.994710         40.750325                1  \n",
       "2         -73.962565         40.772647                1  \n",
       "3         -73.965316         40.803349                3  \n",
       "4         -73.973082         40.761247                5  "
      ]
     },
     "execution_count": 131,
     "metadata": {},
     "output_type": "execute_result"
    }
   ],
   "source": [
    "# Importing dataset\n",
    "fare = pd.read_csv(r\"C:\\Users\\prati\\Desktop\\Python\\Data Science\\Machine Learning\\Projects\\uber.csv\\uber.csv\")\n",
    "fare.head()            # top 5 rows"
   ]
  },
  {
   "cell_type": "code",
   "execution_count": 132,
   "id": "3770fce9",
   "metadata": {},
   "outputs": [
    {
     "name": "stdout",
     "output_type": "stream",
     "text": [
      "<class 'pandas.core.frame.DataFrame'>\n",
      "RangeIndex: 200000 entries, 0 to 199999\n",
      "Data columns (total 9 columns):\n",
      " #   Column             Non-Null Count   Dtype  \n",
      "---  ------             --------------   -----  \n",
      " 0   Unnamed: 0         200000 non-null  int64  \n",
      " 1   key                200000 non-null  object \n",
      " 2   fare_amount        200000 non-null  float64\n",
      " 3   pickup_datetime    200000 non-null  object \n",
      " 4   pickup_longitude   200000 non-null  float64\n",
      " 5   pickup_latitude    200000 non-null  float64\n",
      " 6   dropoff_longitude  199999 non-null  float64\n",
      " 7   dropoff_latitude   199999 non-null  float64\n",
      " 8   passenger_count    200000 non-null  int64  \n",
      "dtypes: float64(5), int64(2), object(2)\n",
      "memory usage: 13.7+ MB\n"
     ]
    }
   ],
   "source": [
    " fare.info()      # Data type"
   ]
  },
  {
   "cell_type": "markdown",
   "id": "b7c8f3fa",
   "metadata": {},
   "source": [
    "This dataset contains 200000 rows along with 9 features. Out of which 5 attributes are float type, 2 int and object respectively."
   ]
  },
  {
   "cell_type": "code",
   "execution_count": 133,
   "id": "ae8a9a40",
   "metadata": {},
   "outputs": [
    {
     "name": "stdout",
     "output_type": "stream",
     "text": [
      " Rows and Columns: (200000, 9)\n",
      "\n",
      " Variables in the dataset: \n",
      " Index(['Unnamed: 0', 'key', 'fare_amount', 'pickup_datetime',\n",
      "       'pickup_longitude', 'pickup_latitude', 'dropoff_longitude',\n",
      "       'dropoff_latitude', 'passenger_count'],\n",
      "      dtype='object')\n"
     ]
    }
   ],
   "source": [
    "print(\" Rows and Columns:\", fare.shape)\n",
    "\n",
    "print(\"\\n Variables in the dataset: \\n\",fare.columns)"
   ]
  },
  {
   "cell_type": "code",
   "execution_count": 134,
   "id": "22c38ba1",
   "metadata": {},
   "outputs": [
    {
     "data": {
      "text/plain": [
       "passenger_count           8\n",
       "fare_amount            1244\n",
       "pickup_longitude      71066\n",
       "dropoff_longitude     76894\n",
       "pickup_latitude       83835\n",
       "dropoff_latitude      90585\n",
       "pickup_datetime      196629\n",
       "Unnamed: 0           200000\n",
       "key                  200000\n",
       "dtype: int64"
      ]
     },
     "execution_count": 134,
     "metadata": {},
     "output_type": "execute_result"
    }
   ],
   "source": [
    "# Checking number of unique rows in each attribute:\n",
    "fare.nunique().sort_values()"
   ]
  },
  {
   "cell_type": "markdown",
   "id": "cf2df03a",
   "metadata": {},
   "source": [
    "# 2. Feature Engineering"
   ]
  },
  {
   "cell_type": "markdown",
   "id": "171096ba",
   "metadata": {},
   "source": [
    "Removing Unnamed and key column from dataset, as it is irrelevant and not required for analysis."
   ]
  },
  {
   "cell_type": "code",
   "execution_count": 135,
   "id": "e70e277b",
   "metadata": {},
   "outputs": [],
   "source": [
    "fare.drop(['Unnamed: 0','key'],axis=1,inplace=True)"
   ]
  },
  {
   "cell_type": "code",
   "execution_count": 136,
   "id": "329dc620",
   "metadata": {
    "scrolled": true
   },
   "outputs": [
    {
     "name": "stdout",
     "output_type": "stream",
     "text": [
      "<class 'pandas.core.frame.DataFrame'>\n",
      "RangeIndex: 200000 entries, 0 to 199999\n",
      "Data columns (total 7 columns):\n",
      " #   Column             Non-Null Count   Dtype  \n",
      "---  ------             --------------   -----  \n",
      " 0   fare_amount        200000 non-null  float64\n",
      " 1   pickup_datetime    200000 non-null  object \n",
      " 2   pickup_longitude   200000 non-null  float64\n",
      " 3   pickup_latitude    200000 non-null  float64\n",
      " 4   dropoff_longitude  199999 non-null  float64\n",
      " 5   dropoff_latitude   199999 non-null  float64\n",
      " 6   passenger_count    200000 non-null  int64  \n",
      "dtypes: float64(5), int64(1), object(1)\n",
      "memory usage: 10.7+ MB\n"
     ]
    }
   ],
   "source": [
    "fare.info()"
   ]
  },
  {
   "cell_type": "markdown",
   "id": "785dd0ef",
   "metadata": {},
   "source": [
    "* Here, we can see that 'pickup_datetime' is object type.\n",
    "* But according to definition , 'pickup_datetime' is date time stamp variable, which wrongly interpreted as 'object', so we need to convert this variable into datetime data type."
   ]
  },
  {
   "cell_type": "code",
   "execution_count": 137,
   "id": "f6e46652",
   "metadata": {},
   "outputs": [],
   "source": [
    "# Changing incorrect data type\n",
    "fare.pickup_datetime=pd.to_datetime(fare.pickup_datetime)"
   ]
  },
  {
   "cell_type": "code",
   "execution_count": 138,
   "id": "27fc7278",
   "metadata": {},
   "outputs": [
    {
     "data": {
      "text/plain": [
       "fare_amount                      float64\n",
       "pickup_datetime      datetime64[ns, UTC]\n",
       "pickup_longitude                 float64\n",
       "pickup_latitude                  float64\n",
       "dropoff_longitude                float64\n",
       "dropoff_latitude                 float64\n",
       "passenger_count                    int64\n",
       "dtype: object"
      ]
     },
     "execution_count": 138,
     "metadata": {},
     "output_type": "execute_result"
    }
   ],
   "source": [
    "fare.dtypes"
   ]
  },
  {
   "cell_type": "code",
   "execution_count": 139,
   "id": "5b711a5c",
   "metadata": {},
   "outputs": [],
   "source": [
    "# Extractinf time features from datetime from further analysis:\n",
    "fare['year'] = fare.pickup_datetime.dt.year\n",
    "fare['month'] = fare.pickup_datetime.dt.month\n",
    "fare['weekday'] = fare.pickup_datetime.dt.weekday\n",
    "fare['day'] = fare.pickup_datetime.dt.day\n",
    "fare['hour'] = fare.pickup_datetime.dt.hour"
   ]
  },
  {
   "cell_type": "code",
   "execution_count": 140,
   "id": "6db5b222",
   "metadata": {},
   "outputs": [
    {
     "name": "stdout",
     "output_type": "stream",
     "text": [
      "<class 'pandas.core.frame.DataFrame'>\n",
      "RangeIndex: 200000 entries, 0 to 199999\n",
      "Data columns (total 12 columns):\n",
      " #   Column             Non-Null Count   Dtype              \n",
      "---  ------             --------------   -----              \n",
      " 0   fare_amount        200000 non-null  float64            \n",
      " 1   pickup_datetime    200000 non-null  datetime64[ns, UTC]\n",
      " 2   pickup_longitude   200000 non-null  float64            \n",
      " 3   pickup_latitude    200000 non-null  float64            \n",
      " 4   dropoff_longitude  199999 non-null  float64            \n",
      " 5   dropoff_latitude   199999 non-null  float64            \n",
      " 6   passenger_count    200000 non-null  int64              \n",
      " 7   year               200000 non-null  int64              \n",
      " 8   month              200000 non-null  int64              \n",
      " 9   weekday            200000 non-null  int64              \n",
      " 10  day                200000 non-null  int64              \n",
      " 11  hour               200000 non-null  int64              \n",
      "dtypes: datetime64[ns, UTC](1), float64(5), int64(6)\n",
      "memory usage: 18.3 MB\n"
     ]
    }
   ],
   "source": [
    "fare.info()"
   ]
  },
  {
   "cell_type": "markdown",
   "id": "42a45214",
   "metadata": {},
   "source": [
    "# Taxi fare mainly affected by various features such as:\n",
    "1. Travelled distance\n",
    "2. Time of travel\n",
    "3. Demand and availability of Taxi\n",
    "4. Some special places are more costly like Airport or other places where there might be toll"
   ]
  },
  {
   "cell_type": "markdown",
   "id": "61f0b718",
   "metadata": {},
   "source": [
    "#### In case of Taxi fare distance between two points of journey is most important factor. So, we need to calculate the distance by using  'Heversine formula'  with the help of longitude and latitude values."
   ]
  },
  {
   "cell_type": "code",
   "execution_count": 141,
   "id": "63717745",
   "metadata": {},
   "outputs": [],
   "source": [
    "from math import *"
   ]
  },
  {
   "cell_type": "markdown",
   "id": "d2b8f115",
   "metadata": {},
   "source": [
    "### Heversine Formula\n",
    "hav(θ) = sin**2(θ/2)"
   ]
  },
  {
   "cell_type": "code",
   "execution_count": 142,
   "id": "012b9a86",
   "metadata": {},
   "outputs": [],
   "source": [
    "# function to calculate the travel distance from the longitudes and latitudes\n",
    "def distance(longitude1, latitude1, longitude2, latitude2):\n",
    "    travel_distance = []\n",
    "    \n",
    "    for pos in range(len(longitude1)):\n",
    "        long1,lati1,long2,lati2 = map(radians,[longitude1[pos],latitude1[pos],longitude2[pos],latitude2[pos]])\n",
    "        dist_long = long2 - long1\n",
    "        dist_lati = lati2 - lati1\n",
    "        a = sin(dist_lati/2)**2 + cos(lati1) * cos(lati2) * sin(dist_long/2)**2\n",
    "        c = 2 * asin(sqrt(a))*6371\n",
    "        travel_distance.append(c)\n",
    "       \n",
    "    return travel_distance"
   ]
  },
  {
   "cell_type": "code",
   "execution_count": 143,
   "id": "b043577c",
   "metadata": {},
   "outputs": [],
   "source": [
    "fare['distance_in_km'] = distance(fare['pickup_longitude'].to_numpy(),\n",
    "                                  fare['pickup_latitude'].to_numpy(),\n",
    "                                  fare['dropoff_longitude'].to_numpy(),\n",
    "                                  fare['dropoff_latitude'].to_numpy()\n",
    "                                              )"
   ]
  },
  {
   "cell_type": "code",
   "execution_count": 144,
   "id": "23d475ee",
   "metadata": {},
   "outputs": [
    {
     "data": {
      "text/html": [
       "<div>\n",
       "<style scoped>\n",
       "    .dataframe tbody tr th:only-of-type {\n",
       "        vertical-align: middle;\n",
       "    }\n",
       "\n",
       "    .dataframe tbody tr th {\n",
       "        vertical-align: top;\n",
       "    }\n",
       "\n",
       "    .dataframe thead th {\n",
       "        text-align: right;\n",
       "    }\n",
       "</style>\n",
       "<table border=\"1\" class=\"dataframe\">\n",
       "  <thead>\n",
       "    <tr style=\"text-align: right;\">\n",
       "      <th></th>\n",
       "      <th>fare_amount</th>\n",
       "      <th>pickup_datetime</th>\n",
       "      <th>pickup_longitude</th>\n",
       "      <th>pickup_latitude</th>\n",
       "      <th>dropoff_longitude</th>\n",
       "      <th>dropoff_latitude</th>\n",
       "      <th>passenger_count</th>\n",
       "      <th>year</th>\n",
       "      <th>month</th>\n",
       "      <th>weekday</th>\n",
       "      <th>day</th>\n",
       "      <th>hour</th>\n",
       "      <th>distance_in_km</th>\n",
       "    </tr>\n",
       "  </thead>\n",
       "  <tbody>\n",
       "    <tr>\n",
       "      <th>0</th>\n",
       "      <td>7.5</td>\n",
       "      <td>2015-05-07 19:52:06+00:00</td>\n",
       "      <td>-73.999817</td>\n",
       "      <td>40.738354</td>\n",
       "      <td>-73.999512</td>\n",
       "      <td>40.723217</td>\n",
       "      <td>1</td>\n",
       "      <td>2015</td>\n",
       "      <td>5</td>\n",
       "      <td>3</td>\n",
       "      <td>7</td>\n",
       "      <td>19</td>\n",
       "      <td>1.683323</td>\n",
       "    </tr>\n",
       "    <tr>\n",
       "      <th>1</th>\n",
       "      <td>7.7</td>\n",
       "      <td>2009-07-17 20:04:56+00:00</td>\n",
       "      <td>-73.994355</td>\n",
       "      <td>40.728225</td>\n",
       "      <td>-73.994710</td>\n",
       "      <td>40.750325</td>\n",
       "      <td>1</td>\n",
       "      <td>2009</td>\n",
       "      <td>7</td>\n",
       "      <td>4</td>\n",
       "      <td>17</td>\n",
       "      <td>20</td>\n",
       "      <td>2.457590</td>\n",
       "    </tr>\n",
       "    <tr>\n",
       "      <th>2</th>\n",
       "      <td>12.9</td>\n",
       "      <td>2009-08-24 21:45:00+00:00</td>\n",
       "      <td>-74.005043</td>\n",
       "      <td>40.740770</td>\n",
       "      <td>-73.962565</td>\n",
       "      <td>40.772647</td>\n",
       "      <td>1</td>\n",
       "      <td>2009</td>\n",
       "      <td>8</td>\n",
       "      <td>0</td>\n",
       "      <td>24</td>\n",
       "      <td>21</td>\n",
       "      <td>5.036377</td>\n",
       "    </tr>\n",
       "    <tr>\n",
       "      <th>3</th>\n",
       "      <td>5.3</td>\n",
       "      <td>2009-06-26 08:22:21+00:00</td>\n",
       "      <td>-73.976124</td>\n",
       "      <td>40.790844</td>\n",
       "      <td>-73.965316</td>\n",
       "      <td>40.803349</td>\n",
       "      <td>3</td>\n",
       "      <td>2009</td>\n",
       "      <td>6</td>\n",
       "      <td>4</td>\n",
       "      <td>26</td>\n",
       "      <td>8</td>\n",
       "      <td>1.661683</td>\n",
       "    </tr>\n",
       "    <tr>\n",
       "      <th>4</th>\n",
       "      <td>16.0</td>\n",
       "      <td>2014-08-28 17:47:00+00:00</td>\n",
       "      <td>-73.925023</td>\n",
       "      <td>40.744085</td>\n",
       "      <td>-73.973082</td>\n",
       "      <td>40.761247</td>\n",
       "      <td>5</td>\n",
       "      <td>2014</td>\n",
       "      <td>8</td>\n",
       "      <td>3</td>\n",
       "      <td>28</td>\n",
       "      <td>17</td>\n",
       "      <td>4.475450</td>\n",
       "    </tr>\n",
       "  </tbody>\n",
       "</table>\n",
       "</div>"
      ],
      "text/plain": [
       "   fare_amount           pickup_datetime  pickup_longitude  pickup_latitude  \\\n",
       "0          7.5 2015-05-07 19:52:06+00:00        -73.999817        40.738354   \n",
       "1          7.7 2009-07-17 20:04:56+00:00        -73.994355        40.728225   \n",
       "2         12.9 2009-08-24 21:45:00+00:00        -74.005043        40.740770   \n",
       "3          5.3 2009-06-26 08:22:21+00:00        -73.976124        40.790844   \n",
       "4         16.0 2014-08-28 17:47:00+00:00        -73.925023        40.744085   \n",
       "\n",
       "   dropoff_longitude  dropoff_latitude  passenger_count  year  month  weekday  \\\n",
       "0         -73.999512         40.723217                1  2015      5        3   \n",
       "1         -73.994710         40.750325                1  2009      7        4   \n",
       "2         -73.962565         40.772647                1  2009      8        0   \n",
       "3         -73.965316         40.803349                3  2009      6        4   \n",
       "4         -73.973082         40.761247                5  2014      8        3   \n",
       "\n",
       "   day  hour  distance_in_km  \n",
       "0    7    19        1.683323  \n",
       "1   17    20        2.457590  \n",
       "2   24    21        5.036377  \n",
       "3   26     8        1.661683  \n",
       "4   28    17        4.475450  "
      ]
     },
     "execution_count": 144,
     "metadata": {},
     "output_type": "execute_result"
    }
   ],
   "source": [
    "fare.head()"
   ]
  },
  {
   "cell_type": "markdown",
   "id": "c71275b7",
   "metadata": {},
   "source": [
    "* As we already retrieve information from pickup_datetime and got distance travelled.\n",
    "* As pickup_datetime is not necessory for further analysis, we can drop this attribute."
   ]
  },
  {
   "cell_type": "code",
   "execution_count": 145,
   "id": "fff96224",
   "metadata": {},
   "outputs": [],
   "source": [
    "fare.drop('pickup_datetime',axis=1, inplace = True)"
   ]
  },
  {
   "cell_type": "code",
   "execution_count": 146,
   "id": "838f494a",
   "metadata": {},
   "outputs": [
    {
     "name": "stdout",
     "output_type": "stream",
     "text": [
      "<class 'pandas.core.frame.DataFrame'>\n",
      "RangeIndex: 200000 entries, 0 to 199999\n",
      "Data columns (total 12 columns):\n",
      " #   Column             Non-Null Count   Dtype  \n",
      "---  ------             --------------   -----  \n",
      " 0   fare_amount        200000 non-null  float64\n",
      " 1   pickup_longitude   200000 non-null  float64\n",
      " 2   pickup_latitude    200000 non-null  float64\n",
      " 3   dropoff_longitude  199999 non-null  float64\n",
      " 4   dropoff_latitude   199999 non-null  float64\n",
      " 5   passenger_count    200000 non-null  int64  \n",
      " 6   year               200000 non-null  int64  \n",
      " 7   month              200000 non-null  int64  \n",
      " 8   weekday            200000 non-null  int64  \n",
      " 9   day                200000 non-null  int64  \n",
      " 10  hour               200000 non-null  int64  \n",
      " 11  distance_in_km     199999 non-null  float64\n",
      "dtypes: float64(6), int64(6)\n",
      "memory usage: 18.3 MB\n"
     ]
    }
   ],
   "source": [
    "fare.info()"
   ]
  },
  {
   "cell_type": "markdown",
   "id": "f9d950c5",
   "metadata": {},
   "source": [
    "Now, we have only required attributes in required data type. So we can perform further analysis."
   ]
  },
  {
   "cell_type": "markdown",
   "id": "6d5c908a",
   "metadata": {},
   "source": [
    "# 3. Exploratory Data Analysis (EDA)"
   ]
  },
  {
   "cell_type": "markdown",
   "id": "bf19e747",
   "metadata": {},
   "source": [
    "#### Peak hours during weekdays and weekends"
   ]
  },
  {
   "cell_type": "code",
   "execution_count": 147,
   "id": "edcfcc78",
   "metadata": {},
   "outputs": [
    {
     "data": {
      "text/plain": [
       "<AxesSubplot:xlabel='hour', ylabel='count'>"
      ]
     },
     "execution_count": 147,
     "metadata": {},
     "output_type": "execute_result"
    },
    {
     "data": {
      "image/png": "[encoded data removed]",
      "text/plain": [
       "<Figure size 720x360 with 1 Axes>"
      ]
     },
     "metadata": {
      "needs_background": "light"
     },
     "output_type": "display_data"
    }
   ],
   "source": [
    "# Peak houes during weekdays\n",
    "plt.figure(figsize=(10,5))\n",
    "sns.countplot(x='hour', data=fare.loc[(fare.weekday >= 0) & (fare.weekday <=4)])"
   ]
  },
  {
   "cell_type": "code",
   "execution_count": 148,
   "id": "12273075",
   "metadata": {},
   "outputs": [
    {
     "data": {
      "text/plain": [
       "<AxesSubplot:xlabel='hour', ylabel='count'>"
      ]
     },
     "execution_count": 148,
     "metadata": {},
     "output_type": "execute_result"
    },
    {
     "data": {
      "image/png": "[encoded data removed]",
      "text/plain": [
       "<Figure size 720x360 with 1 Axes>"
      ]
     },
     "metadata": {
      "needs_background": "light"
     },
     "output_type": "display_data"
    }
   ],
   "source": [
    "# Peak hours during weekend\n",
    "plt.figure(figsize=(10,5))\n",
    "sns.countplot(x='hour', data=fare.loc[(fare.weekday >= 5) & (fare.weekday <=6)])"
   ]
  },
  {
   "cell_type": "markdown",
   "id": "4e7aad95",
   "metadata": {},
   "source": [
    "* From above graph, we can say that pattern for demand of taxi is different for weekdays and weekends.\n",
    "* In case of weekdays, demand of taxi is less during 3 am to 5 am.\n",
    "* In case of weekends, demand of taxi is less during 5 am to 6 am.\n",
    "* 7 pm is the busiest hour for uber drivers during weekdays whereas 12 am is the busiest hour during weekends."
   ]
  },
  {
   "cell_type": "markdown",
   "id": "db254737",
   "metadata": {},
   "source": [
    "# 4. Data Pre-processing"
   ]
  },
  {
   "cell_type": "code",
   "execution_count": 149,
   "id": "352b1814",
   "metadata": {},
   "outputs": [
    {
     "data": {
      "text/html": [
       "<div>\n",
       "<style scoped>\n",
       "    .dataframe tbody tr th:only-of-type {\n",
       "        vertical-align: middle;\n",
       "    }\n",
       "\n",
       "    .dataframe tbody tr th {\n",
       "        vertical-align: top;\n",
       "    }\n",
       "\n",
       "    .dataframe thead th {\n",
       "        text-align: right;\n",
       "    }\n",
       "</style>\n",
       "<table border=\"1\" class=\"dataframe\">\n",
       "  <thead>\n",
       "    <tr style=\"text-align: right;\">\n",
       "      <th></th>\n",
       "      <th>fare_amount</th>\n",
       "      <th>pickup_longitude</th>\n",
       "      <th>pickup_latitude</th>\n",
       "      <th>dropoff_longitude</th>\n",
       "      <th>dropoff_latitude</th>\n",
       "      <th>passenger_count</th>\n",
       "      <th>year</th>\n",
       "      <th>month</th>\n",
       "      <th>weekday</th>\n",
       "      <th>day</th>\n",
       "      <th>hour</th>\n",
       "      <th>distance_in_km</th>\n",
       "    </tr>\n",
       "  </thead>\n",
       "  <tbody>\n",
       "    <tr>\n",
       "      <th>count</th>\n",
       "      <td>200000.000000</td>\n",
       "      <td>200000.000000</td>\n",
       "      <td>200000.000000</td>\n",
       "      <td>199999.000000</td>\n",
       "      <td>199999.000000</td>\n",
       "      <td>200000.000000</td>\n",
       "      <td>200000.000000</td>\n",
       "      <td>200000.000000</td>\n",
       "      <td>200000.000000</td>\n",
       "      <td>200000.000000</td>\n",
       "      <td>200000.000000</td>\n",
       "      <td>199999.000000</td>\n",
       "    </tr>\n",
       "    <tr>\n",
       "      <th>mean</th>\n",
       "      <td>11.359955</td>\n",
       "      <td>-72.527638</td>\n",
       "      <td>39.935885</td>\n",
       "      <td>-72.525292</td>\n",
       "      <td>39.923890</td>\n",
       "      <td>1.684535</td>\n",
       "      <td>2011.742440</td>\n",
       "      <td>6.281795</td>\n",
       "      <td>3.048425</td>\n",
       "      <td>15.704670</td>\n",
       "      <td>13.491335</td>\n",
       "      <td>20.855350</td>\n",
       "    </tr>\n",
       "    <tr>\n",
       "      <th>std</th>\n",
       "      <td>9.901776</td>\n",
       "      <td>11.437787</td>\n",
       "      <td>7.720539</td>\n",
       "      <td>13.117408</td>\n",
       "      <td>6.794829</td>\n",
       "      <td>1.385997</td>\n",
       "      <td>1.856397</td>\n",
       "      <td>3.438925</td>\n",
       "      <td>1.946946</td>\n",
       "      <td>8.687409</td>\n",
       "      <td>6.515531</td>\n",
       "      <td>382.964642</td>\n",
       "    </tr>\n",
       "    <tr>\n",
       "      <th>min</th>\n",
       "      <td>-52.000000</td>\n",
       "      <td>-1340.648410</td>\n",
       "      <td>-74.015515</td>\n",
       "      <td>-3356.666300</td>\n",
       "      <td>-881.985513</td>\n",
       "      <td>0.000000</td>\n",
       "      <td>2009.000000</td>\n",
       "      <td>1.000000</td>\n",
       "      <td>0.000000</td>\n",
       "      <td>1.000000</td>\n",
       "      <td>0.000000</td>\n",
       "      <td>0.000000</td>\n",
       "    </tr>\n",
       "    <tr>\n",
       "      <th>25%</th>\n",
       "      <td>6.000000</td>\n",
       "      <td>-73.992065</td>\n",
       "      <td>40.734796</td>\n",
       "      <td>-73.991407</td>\n",
       "      <td>40.733823</td>\n",
       "      <td>1.000000</td>\n",
       "      <td>2010.000000</td>\n",
       "      <td>3.000000</td>\n",
       "      <td>1.000000</td>\n",
       "      <td>8.000000</td>\n",
       "      <td>9.000000</td>\n",
       "      <td>1.215222</td>\n",
       "    </tr>\n",
       "    <tr>\n",
       "      <th>50%</th>\n",
       "      <td>8.500000</td>\n",
       "      <td>-73.981823</td>\n",
       "      <td>40.752592</td>\n",
       "      <td>-73.980093</td>\n",
       "      <td>40.753042</td>\n",
       "      <td>1.000000</td>\n",
       "      <td>2012.000000</td>\n",
       "      <td>6.000000</td>\n",
       "      <td>3.000000</td>\n",
       "      <td>16.000000</td>\n",
       "      <td>14.000000</td>\n",
       "      <td>2.120992</td>\n",
       "    </tr>\n",
       "    <tr>\n",
       "      <th>75%</th>\n",
       "      <td>12.500000</td>\n",
       "      <td>-73.967154</td>\n",
       "      <td>40.767158</td>\n",
       "      <td>-73.963658</td>\n",
       "      <td>40.768001</td>\n",
       "      <td>2.000000</td>\n",
       "      <td>2013.000000</td>\n",
       "      <td>9.000000</td>\n",
       "      <td>5.000000</td>\n",
       "      <td>23.000000</td>\n",
       "      <td>19.000000</td>\n",
       "      <td>3.875169</td>\n",
       "    </tr>\n",
       "    <tr>\n",
       "      <th>max</th>\n",
       "      <td>499.000000</td>\n",
       "      <td>57.418457</td>\n",
       "      <td>1644.421482</td>\n",
       "      <td>1153.572603</td>\n",
       "      <td>872.697628</td>\n",
       "      <td>208.000000</td>\n",
       "      <td>2015.000000</td>\n",
       "      <td>12.000000</td>\n",
       "      <td>6.000000</td>\n",
       "      <td>31.000000</td>\n",
       "      <td>23.000000</td>\n",
       "      <td>16409.239135</td>\n",
       "    </tr>\n",
       "  </tbody>\n",
       "</table>\n",
       "</div>"
      ],
      "text/plain": [
       "         fare_amount  pickup_longitude  pickup_latitude  dropoff_longitude  \\\n",
       "count  200000.000000     200000.000000    200000.000000      199999.000000   \n",
       "mean       11.359955        -72.527638        39.935885         -72.525292   \n",
       "std         9.901776         11.437787         7.720539          13.117408   \n",
       "min       -52.000000      -1340.648410       -74.015515       -3356.666300   \n",
       "25%         6.000000        -73.992065        40.734796         -73.991407   \n",
       "50%         8.500000        -73.981823        40.752592         -73.980093   \n",
       "75%        12.500000        -73.967154        40.767158         -73.963658   \n",
       "max       499.000000         57.418457      1644.421482        1153.572603   \n",
       "\n",
       "       dropoff_latitude  passenger_count           year          month  \\\n",
       "count     199999.000000    200000.000000  200000.000000  200000.000000   \n",
       "mean          39.923890         1.684535    2011.742440       6.281795   \n",
       "std            6.794829         1.385997       1.856397       3.438925   \n",
       "min         -881.985513         0.000000    2009.000000       1.000000   \n",
       "25%           40.733823         1.000000    2010.000000       3.000000   \n",
       "50%           40.753042         1.000000    2012.000000       6.000000   \n",
       "75%           40.768001         2.000000    2013.000000       9.000000   \n",
       "max          872.697628       208.000000    2015.000000      12.000000   \n",
       "\n",
       "             weekday            day           hour  distance_in_km  \n",
       "count  200000.000000  200000.000000  200000.000000   199999.000000  \n",
       "mean        3.048425      15.704670      13.491335       20.855350  \n",
       "std         1.946946       8.687409       6.515531      382.964642  \n",
       "min         0.000000       1.000000       0.000000        0.000000  \n",
       "25%         1.000000       8.000000       9.000000        1.215222  \n",
       "50%         3.000000      16.000000      14.000000        2.120992  \n",
       "75%         5.000000      23.000000      19.000000        3.875169  \n",
       "max         6.000000      31.000000      23.000000    16409.239135  "
      ]
     },
     "execution_count": 149,
     "metadata": {},
     "output_type": "execute_result"
    }
   ],
   "source": [
    "fare.describe()   # Summary report"
   ]
  },
  {
   "cell_type": "markdown",
   "id": "886446e6",
   "metadata": {},
   "source": [
    "* Here minimum value of fare is negative which is -52 which is not the valid value, so we need to remove the fare which are negative values.\n",
    "\n",
    "* passenger_count minimum value is 0 and maximum value is 208 which is impossible, so we need to remove them as well, for safer side we can think that a taxi can have maximum 7 people."
   ]
  },
  {
   "cell_type": "code",
   "execution_count": 150,
   "id": "7556c151",
   "metadata": {},
   "outputs": [
    {
     "data": {
      "text/plain": [
       "fare_amount          0\n",
       "pickup_longitude     0\n",
       "pickup_latitude      0\n",
       "dropoff_longitude    1\n",
       "dropoff_latitude     1\n",
       "passenger_count      0\n",
       "year                 0\n",
       "month                0\n",
       "weekday              0\n",
       "day                  0\n",
       "hour                 0\n",
       "distance_in_km       1\n",
       "dtype: int64"
      ]
     },
     "execution_count": 150,
     "metadata": {},
     "output_type": "execute_result"
    }
   ],
   "source": [
    "# Checking for missing values present in data:\n",
    "fare.isnull().sum()"
   ]
  },
  {
   "cell_type": "markdown",
   "id": "ca96703d",
   "metadata": {},
   "source": [
    "As only 1 value missing in dropoff_longitude, dropoff_latitude and distance_in_km. We can drop them as it will not affect accuracy of data."
   ]
  },
  {
   "cell_type": "code",
   "execution_count": 151,
   "id": "861780bf",
   "metadata": {},
   "outputs": [],
   "source": [
    "fare.dropna(axis = 0, inplace= True)"
   ]
  },
  {
   "cell_type": "code",
   "execution_count": 152,
   "id": "439e040c",
   "metadata": {},
   "outputs": [
    {
     "data": {
      "text/plain": [
       "fare_amount          0\n",
       "pickup_longitude     0\n",
       "pickup_latitude      0\n",
       "dropoff_longitude    0\n",
       "dropoff_latitude     0\n",
       "passenger_count      0\n",
       "year                 0\n",
       "month                0\n",
       "weekday              0\n",
       "day                  0\n",
       "hour                 0\n",
       "distance_in_km       0\n",
       "dtype: int64"
      ]
     },
     "execution_count": 152,
     "metadata": {},
     "output_type": "execute_result"
    }
   ],
   "source": [
    "fare.isnull().sum()"
   ]
  },
  {
   "cell_type": "markdown",
   "id": "8926a6e9",
   "metadata": {},
   "source": [
    "There are no missing values present in the data"
   ]
  },
  {
   "cell_type": "code",
   "execution_count": 153,
   "id": "d1a682c6",
   "metadata": {},
   "outputs": [
    {
     "data": {
      "text/html": [
       "<div>\n",
       "<style scoped>\n",
       "    .dataframe tbody tr th:only-of-type {\n",
       "        vertical-align: middle;\n",
       "    }\n",
       "\n",
       "    .dataframe tbody tr th {\n",
       "        vertical-align: top;\n",
       "    }\n",
       "\n",
       "    .dataframe thead th {\n",
       "        text-align: right;\n",
       "    }\n",
       "</style>\n",
       "<table border=\"1\" class=\"dataframe\">\n",
       "  <thead>\n",
       "    <tr style=\"text-align: right;\">\n",
       "      <th></th>\n",
       "      <th>fare_amount</th>\n",
       "      <th>pickup_longitude</th>\n",
       "      <th>pickup_latitude</th>\n",
       "      <th>dropoff_longitude</th>\n",
       "      <th>dropoff_latitude</th>\n",
       "      <th>passenger_count</th>\n",
       "      <th>year</th>\n",
       "      <th>month</th>\n",
       "      <th>weekday</th>\n",
       "      <th>day</th>\n",
       "      <th>hour</th>\n",
       "      <th>distance_in_km</th>\n",
       "    </tr>\n",
       "  </thead>\n",
       "  <tbody>\n",
       "    <tr>\n",
       "      <th>0</th>\n",
       "      <td>7.5</td>\n",
       "      <td>-73.999817</td>\n",
       "      <td>40.738354</td>\n",
       "      <td>-73.999512</td>\n",
       "      <td>40.723217</td>\n",
       "      <td>1</td>\n",
       "      <td>2015</td>\n",
       "      <td>5</td>\n",
       "      <td>3</td>\n",
       "      <td>7</td>\n",
       "      <td>19</td>\n",
       "      <td>1.683323</td>\n",
       "    </tr>\n",
       "    <tr>\n",
       "      <th>1</th>\n",
       "      <td>7.7</td>\n",
       "      <td>-73.994355</td>\n",
       "      <td>40.728225</td>\n",
       "      <td>-73.994710</td>\n",
       "      <td>40.750325</td>\n",
       "      <td>1</td>\n",
       "      <td>2009</td>\n",
       "      <td>7</td>\n",
       "      <td>4</td>\n",
       "      <td>17</td>\n",
       "      <td>20</td>\n",
       "      <td>2.457590</td>\n",
       "    </tr>\n",
       "    <tr>\n",
       "      <th>2</th>\n",
       "      <td>12.9</td>\n",
       "      <td>-74.005043</td>\n",
       "      <td>40.740770</td>\n",
       "      <td>-73.962565</td>\n",
       "      <td>40.772647</td>\n",
       "      <td>1</td>\n",
       "      <td>2009</td>\n",
       "      <td>8</td>\n",
       "      <td>0</td>\n",
       "      <td>24</td>\n",
       "      <td>21</td>\n",
       "      <td>5.036377</td>\n",
       "    </tr>\n",
       "    <tr>\n",
       "      <th>3</th>\n",
       "      <td>5.3</td>\n",
       "      <td>-73.976124</td>\n",
       "      <td>40.790844</td>\n",
       "      <td>-73.965316</td>\n",
       "      <td>40.803349</td>\n",
       "      <td>3</td>\n",
       "      <td>2009</td>\n",
       "      <td>6</td>\n",
       "      <td>4</td>\n",
       "      <td>26</td>\n",
       "      <td>8</td>\n",
       "      <td>1.661683</td>\n",
       "    </tr>\n",
       "    <tr>\n",
       "      <th>4</th>\n",
       "      <td>16.0</td>\n",
       "      <td>-73.925023</td>\n",
       "      <td>40.744085</td>\n",
       "      <td>-73.973082</td>\n",
       "      <td>40.761247</td>\n",
       "      <td>5</td>\n",
       "      <td>2014</td>\n",
       "      <td>8</td>\n",
       "      <td>3</td>\n",
       "      <td>28</td>\n",
       "      <td>17</td>\n",
       "      <td>4.475450</td>\n",
       "    </tr>\n",
       "  </tbody>\n",
       "</table>\n",
       "</div>"
      ],
      "text/plain": [
       "   fare_amount  pickup_longitude  pickup_latitude  dropoff_longitude  \\\n",
       "0          7.5        -73.999817        40.738354         -73.999512   \n",
       "1          7.7        -73.994355        40.728225         -73.994710   \n",
       "2         12.9        -74.005043        40.740770         -73.962565   \n",
       "3          5.3        -73.976124        40.790844         -73.965316   \n",
       "4         16.0        -73.925023        40.744085         -73.973082   \n",
       "\n",
       "   dropoff_latitude  passenger_count  year  month  weekday  day  hour  \\\n",
       "0         40.723217                1  2015      5        3    7    19   \n",
       "1         40.750325                1  2009      7        4   17    20   \n",
       "2         40.772647                1  2009      8        0   24    21   \n",
       "3         40.803349                3  2009      6        4   26     8   \n",
       "4         40.761247                5  2014      8        3   28    17   \n",
       "\n",
       "   distance_in_km  \n",
       "0        1.683323  \n",
       "1        2.457590  \n",
       "2        5.036377  \n",
       "3        1.661683  \n",
       "4        4.475450  "
      ]
     },
     "execution_count": 153,
     "metadata": {},
     "output_type": "execute_result"
    }
   ],
   "source": [
    "fare.head()"
   ]
  },
  {
   "cell_type": "code",
   "execution_count": 154,
   "id": "23054fe4",
   "metadata": {},
   "outputs": [
    {
     "data": {
      "text/plain": [
       "<AxesSubplot:>"
      ]
     },
     "execution_count": 154,
     "metadata": {},
     "output_type": "execute_result"
    },
    {
     "data": {
      "image/png": "[encoded data removed]",
      "text/plain": [
       "<Figure size 1080x576 with 1 Axes>"
      ]
     },
     "metadata": {},
     "output_type": "display_data"
    }
   ],
   "source": [
    "# Checking for outliers\n",
    "sns.set(rc={'figure.figsize':(15,8)})\n",
    "sns.boxplot(data= fare)"
   ]
  },
  {
   "cell_type": "markdown",
   "id": "c3b211ce",
   "metadata": {},
   "source": [
    "There are outliers present in most of the important features, So need to treat them."
   ]
  },
  {
   "cell_type": "code",
   "execution_count": 155,
   "id": "9c53af77",
   "metadata": {},
   "outputs": [],
   "source": [
    "#We will only keep the observation where fare is between 2.5 dollars and removing negative observations\n",
    "fare = fare.loc[(fare.fare_amount >= 0)]"
   ]
  },
  {
   "cell_type": "code",
   "execution_count": 156,
   "id": "6b4abbb9",
   "metadata": {},
   "outputs": [
    {
     "data": {
      "text/plain": [
       "(199982, 12)"
      ]
     },
     "execution_count": 156,
     "metadata": {},
     "output_type": "execute_result"
    }
   ],
   "source": [
    "fare.shape"
   ]
  },
  {
   "cell_type": "code",
   "execution_count": 157,
   "id": "e9b3d56c",
   "metadata": {},
   "outputs": [
    {
     "name": "stderr",
     "output_type": "stream",
     "text": [
      "C:\\Users\\prati\\AppData\\Local\\Temp/ipykernel_2676/2732471902.py:10: SettingWithCopyWarning: \n",
      "A value is trying to be set on a copy of a slice from a DataFrame\n",
      "\n",
      "See the caveats in the documentation: https://pandas.pydata.org/pandas-docs/stable/user_guide/indexing.html#returning-a-view-versus-a-copy\n",
      "  fare[i][fare[i]>= upper_limit] = upper_limit\n",
      "C:\\Users\\prati\\AppData\\Local\\Temp/ipykernel_2676/2732471902.py:10: SettingWithCopyWarning: \n",
      "A value is trying to be set on a copy of a slice from a DataFrame\n",
      "\n",
      "See the caveats in the documentation: https://pandas.pydata.org/pandas-docs/stable/user_guide/indexing.html#returning-a-view-versus-a-copy\n",
      "  fare[i][fare[i]>= upper_limit] = upper_limit\n"
     ]
    },
    {
     "data": {
      "text/html": [
       "<div>\n",
       "<style scoped>\n",
       "    .dataframe tbody tr th:only-of-type {\n",
       "        vertical-align: middle;\n",
       "    }\n",
       "\n",
       "    .dataframe tbody tr th {\n",
       "        vertical-align: top;\n",
       "    }\n",
       "\n",
       "    .dataframe thead th {\n",
       "        text-align: right;\n",
       "    }\n",
       "</style>\n",
       "<table border=\"1\" class=\"dataframe\">\n",
       "  <thead>\n",
       "    <tr style=\"text-align: right;\">\n",
       "      <th></th>\n",
       "      <th>fare_amount</th>\n",
       "      <th>pickup_longitude</th>\n",
       "      <th>pickup_latitude</th>\n",
       "      <th>dropoff_longitude</th>\n",
       "      <th>dropoff_latitude</th>\n",
       "      <th>passenger_count</th>\n",
       "      <th>year</th>\n",
       "      <th>month</th>\n",
       "      <th>weekday</th>\n",
       "      <th>day</th>\n",
       "      <th>hour</th>\n",
       "      <th>distance_in_km</th>\n",
       "    </tr>\n",
       "  </thead>\n",
       "  <tbody>\n",
       "    <tr>\n",
       "      <th>0</th>\n",
       "      <td>7.50</td>\n",
       "      <td>-73.999817</td>\n",
       "      <td>40.738354</td>\n",
       "      <td>-73.999512</td>\n",
       "      <td>40.723217</td>\n",
       "      <td>1.0</td>\n",
       "      <td>2015</td>\n",
       "      <td>5</td>\n",
       "      <td>3</td>\n",
       "      <td>7</td>\n",
       "      <td>19</td>\n",
       "      <td>1.683323</td>\n",
       "    </tr>\n",
       "    <tr>\n",
       "      <th>1</th>\n",
       "      <td>7.70</td>\n",
       "      <td>-73.994355</td>\n",
       "      <td>40.728225</td>\n",
       "      <td>-73.994710</td>\n",
       "      <td>40.750325</td>\n",
       "      <td>1.0</td>\n",
       "      <td>2009</td>\n",
       "      <td>7</td>\n",
       "      <td>4</td>\n",
       "      <td>17</td>\n",
       "      <td>20</td>\n",
       "      <td>2.457590</td>\n",
       "    </tr>\n",
       "    <tr>\n",
       "      <th>2</th>\n",
       "      <td>12.90</td>\n",
       "      <td>-74.005043</td>\n",
       "      <td>40.740770</td>\n",
       "      <td>-73.962565</td>\n",
       "      <td>40.772647</td>\n",
       "      <td>1.0</td>\n",
       "      <td>2009</td>\n",
       "      <td>8</td>\n",
       "      <td>0</td>\n",
       "      <td>24</td>\n",
       "      <td>21</td>\n",
       "      <td>5.036377</td>\n",
       "    </tr>\n",
       "    <tr>\n",
       "      <th>3</th>\n",
       "      <td>5.30</td>\n",
       "      <td>-73.976124</td>\n",
       "      <td>40.790844</td>\n",
       "      <td>-73.965316</td>\n",
       "      <td>40.803349</td>\n",
       "      <td>3.0</td>\n",
       "      <td>2009</td>\n",
       "      <td>6</td>\n",
       "      <td>4</td>\n",
       "      <td>26</td>\n",
       "      <td>8</td>\n",
       "      <td>1.661683</td>\n",
       "    </tr>\n",
       "    <tr>\n",
       "      <th>4</th>\n",
       "      <td>16.00</td>\n",
       "      <td>-73.929788</td>\n",
       "      <td>40.744085</td>\n",
       "      <td>-73.973082</td>\n",
       "      <td>40.761247</td>\n",
       "      <td>3.5</td>\n",
       "      <td>2014</td>\n",
       "      <td>8</td>\n",
       "      <td>3</td>\n",
       "      <td>28</td>\n",
       "      <td>17</td>\n",
       "      <td>4.475450</td>\n",
       "    </tr>\n",
       "    <tr>\n",
       "      <th>...</th>\n",
       "      <td>...</td>\n",
       "      <td>...</td>\n",
       "      <td>...</td>\n",
       "      <td>...</td>\n",
       "      <td>...</td>\n",
       "      <td>...</td>\n",
       "      <td>...</td>\n",
       "      <td>...</td>\n",
       "      <td>...</td>\n",
       "      <td>...</td>\n",
       "      <td>...</td>\n",
       "      <td>...</td>\n",
       "    </tr>\n",
       "    <tr>\n",
       "      <th>199995</th>\n",
       "      <td>3.00</td>\n",
       "      <td>-73.987042</td>\n",
       "      <td>40.739367</td>\n",
       "      <td>-73.986525</td>\n",
       "      <td>40.740297</td>\n",
       "      <td>1.0</td>\n",
       "      <td>2012</td>\n",
       "      <td>10</td>\n",
       "      <td>6</td>\n",
       "      <td>28</td>\n",
       "      <td>10</td>\n",
       "      <td>0.112210</td>\n",
       "    </tr>\n",
       "    <tr>\n",
       "      <th>199996</th>\n",
       "      <td>7.50</td>\n",
       "      <td>-73.984722</td>\n",
       "      <td>40.736837</td>\n",
       "      <td>-74.006672</td>\n",
       "      <td>40.739620</td>\n",
       "      <td>1.0</td>\n",
       "      <td>2014</td>\n",
       "      <td>3</td>\n",
       "      <td>4</td>\n",
       "      <td>14</td>\n",
       "      <td>1</td>\n",
       "      <td>1.875050</td>\n",
       "    </tr>\n",
       "    <tr>\n",
       "      <th>199997</th>\n",
       "      <td>22.25</td>\n",
       "      <td>-73.986017</td>\n",
       "      <td>40.756487</td>\n",
       "      <td>-73.922034</td>\n",
       "      <td>40.692588</td>\n",
       "      <td>2.0</td>\n",
       "      <td>2009</td>\n",
       "      <td>6</td>\n",
       "      <td>0</td>\n",
       "      <td>29</td>\n",
       "      <td>0</td>\n",
       "      <td>7.865287</td>\n",
       "    </tr>\n",
       "    <tr>\n",
       "      <th>199998</th>\n",
       "      <td>14.50</td>\n",
       "      <td>-73.997124</td>\n",
       "      <td>40.725452</td>\n",
       "      <td>-73.983215</td>\n",
       "      <td>40.695415</td>\n",
       "      <td>1.0</td>\n",
       "      <td>2015</td>\n",
       "      <td>5</td>\n",
       "      <td>2</td>\n",
       "      <td>20</td>\n",
       "      <td>14</td>\n",
       "      <td>3.539715</td>\n",
       "    </tr>\n",
       "    <tr>\n",
       "      <th>199999</th>\n",
       "      <td>14.10</td>\n",
       "      <td>-73.984395</td>\n",
       "      <td>40.720077</td>\n",
       "      <td>-73.985508</td>\n",
       "      <td>40.768793</td>\n",
       "      <td>1.0</td>\n",
       "      <td>2010</td>\n",
       "      <td>5</td>\n",
       "      <td>5</td>\n",
       "      <td>15</td>\n",
       "      <td>4</td>\n",
       "      <td>5.417783</td>\n",
       "    </tr>\n",
       "  </tbody>\n",
       "</table>\n",
       "<p>199982 rows × 12 columns</p>\n",
       "</div>"
      ],
      "text/plain": [
       "        fare_amount  pickup_longitude  pickup_latitude  dropoff_longitude  \\\n",
       "0              7.50        -73.999817        40.738354         -73.999512   \n",
       "1              7.70        -73.994355        40.728225         -73.994710   \n",
       "2             12.90        -74.005043        40.740770         -73.962565   \n",
       "3              5.30        -73.976124        40.790844         -73.965316   \n",
       "4             16.00        -73.929788        40.744085         -73.973082   \n",
       "...             ...               ...              ...                ...   \n",
       "199995         3.00        -73.987042        40.739367         -73.986525   \n",
       "199996         7.50        -73.984722        40.736837         -74.006672   \n",
       "199997        22.25        -73.986017        40.756487         -73.922034   \n",
       "199998        14.50        -73.997124        40.725452         -73.983215   \n",
       "199999        14.10        -73.984395        40.720077         -73.985508   \n",
       "\n",
       "        dropoff_latitude  passenger_count  year  month  weekday  day  hour  \\\n",
       "0              40.723217              1.0  2015      5        3    7    19   \n",
       "1              40.750325              1.0  2009      7        4   17    20   \n",
       "2              40.772647              1.0  2009      8        0   24    21   \n",
       "3              40.803349              3.0  2009      6        4   26     8   \n",
       "4              40.761247              3.5  2014      8        3   28    17   \n",
       "...                  ...              ...   ...    ...      ...  ...   ...   \n",
       "199995         40.740297              1.0  2012     10        6   28    10   \n",
       "199996         40.739620              1.0  2014      3        4   14     1   \n",
       "199997         40.692588              2.0  2009      6        0   29     0   \n",
       "199998         40.695415              1.0  2015      5        2   20    14   \n",
       "199999         40.768793              1.0  2010      5        5   15     4   \n",
       "\n",
       "        distance_in_km  \n",
       "0             1.683323  \n",
       "1             2.457590  \n",
       "2             5.036377  \n",
       "3             1.661683  \n",
       "4             4.475450  \n",
       "...                ...  \n",
       "199995        0.112210  \n",
       "199996        1.875050  \n",
       "199997        7.865287  \n",
       "199998        3.539715  \n",
       "199999        5.417783  \n",
       "\n",
       "[199982 rows x 12 columns]"
      ]
     },
     "execution_count": 157,
     "metadata": {},
     "output_type": "execute_result"
    }
   ],
   "source": [
    "def treat_outliers(fare):\n",
    "    for i in fare.columns:    \n",
    "        q1=fare[i].quantile(0.25)\n",
    "        q3=fare[i].quantile(0.75)\n",
    "        iqr=q3-q1\n",
    "        upper_limit=q3+1.5*iqr\n",
    "        lower_limit=q1-1.5*iqr\n",
    "        if ((fare[i].dtype=='float64') | (fare[i].dtype=='int64')):\n",
    "            fare[i][fare[i]<= lower_limit] = lower_limit\n",
    "            fare[i][fare[i]>= upper_limit] = upper_limit\n",
    "        else:\n",
    "            fare[i]=fare[i]\n",
    "    return fare\n",
    "        \n",
    "treat_outliers(fare)    "
   ]
  },
  {
   "cell_type": "code",
   "execution_count": 158,
   "id": "262f6b92",
   "metadata": {},
   "outputs": [
    {
     "data": {
      "text/plain": [
       "<AxesSubplot:>"
      ]
     },
     "execution_count": 158,
     "metadata": {},
     "output_type": "execute_result"
    },
    {
     "data": {
      "image/png": "[encoded data removed]",
      "text/plain": [
       "<Figure size 1440x576 with 1 Axes>"
      ]
     },
     "metadata": {},
     "output_type": "display_data"
    }
   ],
   "source": [
    "# Checking outliers in the data:\n",
    "sns.set(rc={'figure.figsize':(20,8)})\n",
    "sns.boxplot(data= fare)"
   ]
  },
  {
   "cell_type": "markdown",
   "id": "83c59336",
   "metadata": {},
   "source": [
    "There are no outliers present in the data"
   ]
  },
  {
   "cell_type": "code",
   "execution_count": 159,
   "id": "4315d69a",
   "metadata": {},
   "outputs": [
    {
     "data": {
      "text/html": [
       "<div>\n",
       "<style scoped>\n",
       "    .dataframe tbody tr th:only-of-type {\n",
       "        vertical-align: middle;\n",
       "    }\n",
       "\n",
       "    .dataframe tbody tr th {\n",
       "        vertical-align: top;\n",
       "    }\n",
       "\n",
       "    .dataframe thead th {\n",
       "        text-align: right;\n",
       "    }\n",
       "</style>\n",
       "<table border=\"1\" class=\"dataframe\">\n",
       "  <thead>\n",
       "    <tr style=\"text-align: right;\">\n",
       "      <th></th>\n",
       "      <th>fare_amount</th>\n",
       "      <th>pickup_longitude</th>\n",
       "      <th>pickup_latitude</th>\n",
       "      <th>dropoff_longitude</th>\n",
       "      <th>dropoff_latitude</th>\n",
       "      <th>passenger_count</th>\n",
       "      <th>year</th>\n",
       "      <th>month</th>\n",
       "      <th>weekday</th>\n",
       "      <th>day</th>\n",
       "      <th>hour</th>\n",
       "      <th>distance_in_km</th>\n",
       "    </tr>\n",
       "  </thead>\n",
       "  <tbody>\n",
       "    <tr>\n",
       "      <th>count</th>\n",
       "      <td>199982.000000</td>\n",
       "      <td>199982.000000</td>\n",
       "      <td>199982.000000</td>\n",
       "      <td>199982.000000</td>\n",
       "      <td>199982.000000</td>\n",
       "      <td>199982.000000</td>\n",
       "      <td>199982.000000</td>\n",
       "      <td>199982.000000</td>\n",
       "      <td>199982.000000</td>\n",
       "      <td>199982.000000</td>\n",
       "      <td>199982.000000</td>\n",
       "      <td>199982.000000</td>\n",
       "    </tr>\n",
       "    <tr>\n",
       "      <th>mean</th>\n",
       "      <td>10.082222</td>\n",
       "      <td>-73.978311</td>\n",
       "      <td>40.750196</td>\n",
       "      <td>-73.976192</td>\n",
       "      <td>40.750151</td>\n",
       "      <td>1.514341</td>\n",
       "      <td>2011.742357</td>\n",
       "      <td>6.282045</td>\n",
       "      <td>3.048474</td>\n",
       "      <td>15.705058</td>\n",
       "      <td>13.491329</td>\n",
       "      <td>2.854210</td>\n",
       "    </tr>\n",
       "    <tr>\n",
       "      <th>std</th>\n",
       "      <td>5.438969</td>\n",
       "      <td>0.020508</td>\n",
       "      <td>0.025659</td>\n",
       "      <td>0.022880</td>\n",
       "      <td>0.028660</td>\n",
       "      <td>0.876694</td>\n",
       "      <td>1.856317</td>\n",
       "      <td>3.438948</td>\n",
       "      <td>1.946970</td>\n",
       "      <td>8.687457</td>\n",
       "      <td>6.515457</td>\n",
       "      <td>2.223710</td>\n",
       "    </tr>\n",
       "    <tr>\n",
       "      <th>min</th>\n",
       "      <td>0.000000</td>\n",
       "      <td>-74.029431</td>\n",
       "      <td>40.686251</td>\n",
       "      <td>-74.033030</td>\n",
       "      <td>40.682558</td>\n",
       "      <td>0.000000</td>\n",
       "      <td>2009.000000</td>\n",
       "      <td>1.000000</td>\n",
       "      <td>0.000000</td>\n",
       "      <td>1.000000</td>\n",
       "      <td>0.000000</td>\n",
       "      <td>0.000000</td>\n",
       "    </tr>\n",
       "    <tr>\n",
       "      <th>25%</th>\n",
       "      <td>6.000000</td>\n",
       "      <td>-73.992065</td>\n",
       "      <td>40.734795</td>\n",
       "      <td>-73.991407</td>\n",
       "      <td>40.733824</td>\n",
       "      <td>1.000000</td>\n",
       "      <td>2010.000000</td>\n",
       "      <td>3.000000</td>\n",
       "      <td>1.000000</td>\n",
       "      <td>8.000000</td>\n",
       "      <td>9.000000</td>\n",
       "      <td>1.215343</td>\n",
       "    </tr>\n",
       "    <tr>\n",
       "      <th>50%</th>\n",
       "      <td>8.500000</td>\n",
       "      <td>-73.981823</td>\n",
       "      <td>40.752592</td>\n",
       "      <td>-73.980092</td>\n",
       "      <td>40.753042</td>\n",
       "      <td>1.000000</td>\n",
       "      <td>2012.000000</td>\n",
       "      <td>6.000000</td>\n",
       "      <td>3.000000</td>\n",
       "      <td>16.000000</td>\n",
       "      <td>14.000000</td>\n",
       "      <td>2.121106</td>\n",
       "    </tr>\n",
       "    <tr>\n",
       "      <th>75%</th>\n",
       "      <td>12.500000</td>\n",
       "      <td>-73.967154</td>\n",
       "      <td>40.767158</td>\n",
       "      <td>-73.963658</td>\n",
       "      <td>40.768001</td>\n",
       "      <td>2.000000</td>\n",
       "      <td>2013.000000</td>\n",
       "      <td>9.000000</td>\n",
       "      <td>5.000000</td>\n",
       "      <td>23.000000</td>\n",
       "      <td>19.000000</td>\n",
       "      <td>3.875321</td>\n",
       "    </tr>\n",
       "    <tr>\n",
       "      <th>max</th>\n",
       "      <td>22.250000</td>\n",
       "      <td>-73.929788</td>\n",
       "      <td>40.815702</td>\n",
       "      <td>-73.922034</td>\n",
       "      <td>40.819267</td>\n",
       "      <td>3.500000</td>\n",
       "      <td>2015.000000</td>\n",
       "      <td>12.000000</td>\n",
       "      <td>6.000000</td>\n",
       "      <td>31.000000</td>\n",
       "      <td>23.000000</td>\n",
       "      <td>7.865287</td>\n",
       "    </tr>\n",
       "  </tbody>\n",
       "</table>\n",
       "</div>"
      ],
      "text/plain": [
       "         fare_amount  pickup_longitude  pickup_latitude  dropoff_longitude  \\\n",
       "count  199982.000000     199982.000000    199982.000000      199982.000000   \n",
       "mean       10.082222        -73.978311        40.750196         -73.976192   \n",
       "std         5.438969          0.020508         0.025659           0.022880   \n",
       "min         0.000000        -74.029431        40.686251         -74.033030   \n",
       "25%         6.000000        -73.992065        40.734795         -73.991407   \n",
       "50%         8.500000        -73.981823        40.752592         -73.980092   \n",
       "75%        12.500000        -73.967154        40.767158         -73.963658   \n",
       "max        22.250000        -73.929788        40.815702         -73.922034   \n",
       "\n",
       "       dropoff_latitude  passenger_count           year          month  \\\n",
       "count     199982.000000    199982.000000  199982.000000  199982.000000   \n",
       "mean          40.750151         1.514341    2011.742357       6.282045   \n",
       "std            0.028660         0.876694       1.856317       3.438948   \n",
       "min           40.682558         0.000000    2009.000000       1.000000   \n",
       "25%           40.733824         1.000000    2010.000000       3.000000   \n",
       "50%           40.753042         1.000000    2012.000000       6.000000   \n",
       "75%           40.768001         2.000000    2013.000000       9.000000   \n",
       "max           40.819267         3.500000    2015.000000      12.000000   \n",
       "\n",
       "             weekday            day           hour  distance_in_km  \n",
       "count  199982.000000  199982.000000  199982.000000   199982.000000  \n",
       "mean        3.048474      15.705058      13.491329        2.854210  \n",
       "std         1.946970       8.687457       6.515457        2.223710  \n",
       "min         0.000000       1.000000       0.000000        0.000000  \n",
       "25%         1.000000       8.000000       9.000000        1.215343  \n",
       "50%         3.000000      16.000000      14.000000        2.121106  \n",
       "75%         5.000000      23.000000      19.000000        3.875321  \n",
       "max         6.000000      31.000000      23.000000        7.865287  "
      ]
     },
     "execution_count": 159,
     "metadata": {},
     "output_type": "execute_result"
    }
   ],
   "source": [
    "fare.describe()"
   ]
  },
  {
   "cell_type": "markdown",
   "id": "c88e5b33",
   "metadata": {},
   "source": [
    "# 5. Data Manipulation"
   ]
  },
  {
   "cell_type": "code",
   "execution_count": 160,
   "id": "c164ead2",
   "metadata": {},
   "outputs": [
    {
     "data": {
      "text/html": [
       "<div>\n",
       "<style scoped>\n",
       "    .dataframe tbody tr th:only-of-type {\n",
       "        vertical-align: middle;\n",
       "    }\n",
       "\n",
       "    .dataframe tbody tr th {\n",
       "        vertical-align: top;\n",
       "    }\n",
       "\n",
       "    .dataframe thead th {\n",
       "        text-align: right;\n",
       "    }\n",
       "</style>\n",
       "<table border=\"1\" class=\"dataframe\">\n",
       "  <thead>\n",
       "    <tr style=\"text-align: right;\">\n",
       "      <th></th>\n",
       "      <th>fare_amount</th>\n",
       "      <th>pickup_longitude</th>\n",
       "      <th>pickup_latitude</th>\n",
       "      <th>dropoff_longitude</th>\n",
       "      <th>dropoff_latitude</th>\n",
       "      <th>passenger_count</th>\n",
       "      <th>year</th>\n",
       "      <th>month</th>\n",
       "      <th>weekday</th>\n",
       "      <th>day</th>\n",
       "      <th>hour</th>\n",
       "      <th>distance_in_km</th>\n",
       "    </tr>\n",
       "  </thead>\n",
       "  <tbody>\n",
       "    <tr>\n",
       "      <th>fare_amount</th>\n",
       "      <td>1.000000</td>\n",
       "      <td>0.154117</td>\n",
       "      <td>-0.110904</td>\n",
       "      <td>0.218714</td>\n",
       "      <td>-0.125936</td>\n",
       "      <td>0.015901</td>\n",
       "      <td>0.141424</td>\n",
       "      <td>0.030638</td>\n",
       "      <td>0.013615</td>\n",
       "      <td>0.004461</td>\n",
       "      <td>-0.023589</td>\n",
       "      <td>0.844583</td>\n",
       "    </tr>\n",
       "    <tr>\n",
       "      <th>pickup_longitude</th>\n",
       "      <td>0.154117</td>\n",
       "      <td>1.000000</td>\n",
       "      <td>0.259515</td>\n",
       "      <td>0.425635</td>\n",
       "      <td>0.073295</td>\n",
       "      <td>-0.013231</td>\n",
       "      <td>0.010271</td>\n",
       "      <td>0.001185</td>\n",
       "      <td>-0.024631</td>\n",
       "      <td>-0.003190</td>\n",
       "      <td>0.011596</td>\n",
       "      <td>0.098033</td>\n",
       "    </tr>\n",
       "    <tr>\n",
       "      <th>pickup_latitude</th>\n",
       "      <td>-0.110904</td>\n",
       "      <td>0.259515</td>\n",
       "      <td>1.000000</td>\n",
       "      <td>0.048863</td>\n",
       "      <td>0.515750</td>\n",
       "      <td>-0.012871</td>\n",
       "      <td>-0.014232</td>\n",
       "      <td>0.001564</td>\n",
       "      <td>-0.042301</td>\n",
       "      <td>-0.001522</td>\n",
       "      <td>0.029693</td>\n",
       "      <td>-0.046815</td>\n",
       "    </tr>\n",
       "    <tr>\n",
       "      <th>dropoff_longitude</th>\n",
       "      <td>0.218714</td>\n",
       "      <td>0.425635</td>\n",
       "      <td>0.048863</td>\n",
       "      <td>1.000000</td>\n",
       "      <td>0.245682</td>\n",
       "      <td>-0.009313</td>\n",
       "      <td>0.011367</td>\n",
       "      <td>0.002389</td>\n",
       "      <td>-0.003306</td>\n",
       "      <td>-0.004022</td>\n",
       "      <td>-0.046590</td>\n",
       "      <td>0.186525</td>\n",
       "    </tr>\n",
       "    <tr>\n",
       "      <th>dropoff_latitude</th>\n",
       "      <td>-0.125936</td>\n",
       "      <td>0.073295</td>\n",
       "      <td>0.515750</td>\n",
       "      <td>0.245682</td>\n",
       "      <td>1.000000</td>\n",
       "      <td>-0.006294</td>\n",
       "      <td>-0.009546</td>\n",
       "      <td>-0.001194</td>\n",
       "      <td>-0.031924</td>\n",
       "      <td>-0.003474</td>\n",
       "      <td>0.019761</td>\n",
       "      <td>-0.038838</td>\n",
       "    </tr>\n",
       "    <tr>\n",
       "      <th>passenger_count</th>\n",
       "      <td>0.015901</td>\n",
       "      <td>-0.013231</td>\n",
       "      <td>-0.012871</td>\n",
       "      <td>-0.009313</td>\n",
       "      <td>-0.006294</td>\n",
       "      <td>1.000000</td>\n",
       "      <td>-0.009730</td>\n",
       "      <td>0.010401</td>\n",
       "      <td>0.048558</td>\n",
       "      <td>0.002686</td>\n",
       "      <td>0.020266</td>\n",
       "      <td>0.009684</td>\n",
       "    </tr>\n",
       "    <tr>\n",
       "      <th>year</th>\n",
       "      <td>0.141424</td>\n",
       "      <td>0.010271</td>\n",
       "      <td>-0.014232</td>\n",
       "      <td>0.011367</td>\n",
       "      <td>-0.009546</td>\n",
       "      <td>-0.009730</td>\n",
       "      <td>1.000000</td>\n",
       "      <td>-0.115863</td>\n",
       "      <td>0.006101</td>\n",
       "      <td>-0.012128</td>\n",
       "      <td>0.002140</td>\n",
       "      <td>0.024333</td>\n",
       "    </tr>\n",
       "    <tr>\n",
       "      <th>month</th>\n",
       "      <td>0.030638</td>\n",
       "      <td>0.001185</td>\n",
       "      <td>0.001564</td>\n",
       "      <td>0.002389</td>\n",
       "      <td>-0.001194</td>\n",
       "      <td>0.010401</td>\n",
       "      <td>-0.115863</td>\n",
       "      <td>1.000000</td>\n",
       "      <td>-0.008814</td>\n",
       "      <td>-0.017380</td>\n",
       "      <td>-0.003904</td>\n",
       "      <td>0.011614</td>\n",
       "    </tr>\n",
       "    <tr>\n",
       "      <th>weekday</th>\n",
       "      <td>0.013615</td>\n",
       "      <td>-0.024631</td>\n",
       "      <td>-0.042301</td>\n",
       "      <td>-0.003306</td>\n",
       "      <td>-0.031924</td>\n",
       "      <td>0.048558</td>\n",
       "      <td>0.006101</td>\n",
       "      <td>-0.008814</td>\n",
       "      <td>1.000000</td>\n",
       "      <td>0.005616</td>\n",
       "      <td>-0.086943</td>\n",
       "      <td>0.027089</td>\n",
       "    </tr>\n",
       "    <tr>\n",
       "      <th>day</th>\n",
       "      <td>0.004461</td>\n",
       "      <td>-0.003190</td>\n",
       "      <td>-0.001522</td>\n",
       "      <td>-0.004022</td>\n",
       "      <td>-0.003474</td>\n",
       "      <td>0.002686</td>\n",
       "      <td>-0.012128</td>\n",
       "      <td>-0.017380</td>\n",
       "      <td>0.005616</td>\n",
       "      <td>1.000000</td>\n",
       "      <td>0.004671</td>\n",
       "      <td>0.003034</td>\n",
       "    </tr>\n",
       "    <tr>\n",
       "      <th>hour</th>\n",
       "      <td>-0.023589</td>\n",
       "      <td>0.011596</td>\n",
       "      <td>0.029693</td>\n",
       "      <td>-0.046590</td>\n",
       "      <td>0.019761</td>\n",
       "      <td>0.020266</td>\n",
       "      <td>0.002140</td>\n",
       "      <td>-0.003904</td>\n",
       "      <td>-0.086943</td>\n",
       "      <td>0.004671</td>\n",
       "      <td>1.000000</td>\n",
       "      <td>-0.038348</td>\n",
       "    </tr>\n",
       "    <tr>\n",
       "      <th>distance_in_km</th>\n",
       "      <td>0.844583</td>\n",
       "      <td>0.098033</td>\n",
       "      <td>-0.046815</td>\n",
       "      <td>0.186525</td>\n",
       "      <td>-0.038838</td>\n",
       "      <td>0.009684</td>\n",
       "      <td>0.024333</td>\n",
       "      <td>0.011614</td>\n",
       "      <td>0.027089</td>\n",
       "      <td>0.003034</td>\n",
       "      <td>-0.038348</td>\n",
       "      <td>1.000000</td>\n",
       "    </tr>\n",
       "  </tbody>\n",
       "</table>\n",
       "</div>"
      ],
      "text/plain": [
       "                   fare_amount  pickup_longitude  pickup_latitude  \\\n",
       "fare_amount           1.000000          0.154117        -0.110904   \n",
       "pickup_longitude      0.154117          1.000000         0.259515   \n",
       "pickup_latitude      -0.110904          0.259515         1.000000   \n",
       "dropoff_longitude     0.218714          0.425635         0.048863   \n",
       "dropoff_latitude     -0.125936          0.073295         0.515750   \n",
       "passenger_count       0.015901         -0.013231        -0.012871   \n",
       "year                  0.141424          0.010271        -0.014232   \n",
       "month                 0.030638          0.001185         0.001564   \n",
       "weekday               0.013615         -0.024631        -0.042301   \n",
       "day                   0.004461         -0.003190        -0.001522   \n",
       "hour                 -0.023589          0.011596         0.029693   \n",
       "distance_in_km        0.844583          0.098033        -0.046815   \n",
       "\n",
       "                   dropoff_longitude  dropoff_latitude  passenger_count  \\\n",
       "fare_amount                 0.218714         -0.125936         0.015901   \n",
       "pickup_longitude            0.425635          0.073295        -0.013231   \n",
       "pickup_latitude             0.048863          0.515750        -0.012871   \n",
       "dropoff_longitude           1.000000          0.245682        -0.009313   \n",
       "dropoff_latitude            0.245682          1.000000        -0.006294   \n",
       "passenger_count            -0.009313         -0.006294         1.000000   \n",
       "year                        0.011367         -0.009546        -0.009730   \n",
       "month                       0.002389         -0.001194         0.010401   \n",
       "weekday                    -0.003306         -0.031924         0.048558   \n",
       "day                        -0.004022         -0.003474         0.002686   \n",
       "hour                       -0.046590          0.019761         0.020266   \n",
       "distance_in_km              0.186525         -0.038838         0.009684   \n",
       "\n",
       "                       year     month   weekday       day      hour  \\\n",
       "fare_amount        0.141424  0.030638  0.013615  0.004461 -0.023589   \n",
       "pickup_longitude   0.010271  0.001185 -0.024631 -0.003190  0.011596   \n",
       "pickup_latitude   -0.014232  0.001564 -0.042301 -0.001522  0.029693   \n",
       "dropoff_longitude  0.011367  0.002389 -0.003306 -0.004022 -0.046590   \n",
       "dropoff_latitude  -0.009546 -0.001194 -0.031924 -0.003474  0.019761   \n",
       "passenger_count   -0.009730  0.010401  0.048558  0.002686  0.020266   \n",
       "year               1.000000 -0.115863  0.006101 -0.012128  0.002140   \n",
       "month             -0.115863  1.000000 -0.008814 -0.017380 -0.003904   \n",
       "weekday            0.006101 -0.008814  1.000000  0.005616 -0.086943   \n",
       "day               -0.012128 -0.017380  0.005616  1.000000  0.004671   \n",
       "hour               0.002140 -0.003904 -0.086943  0.004671  1.000000   \n",
       "distance_in_km     0.024333  0.011614  0.027089  0.003034 -0.038348   \n",
       "\n",
       "                   distance_in_km  \n",
       "fare_amount              0.844583  \n",
       "pickup_longitude         0.098033  \n",
       "pickup_latitude         -0.046815  \n",
       "dropoff_longitude        0.186525  \n",
       "dropoff_latitude        -0.038838  \n",
       "passenger_count          0.009684  \n",
       "year                     0.024333  \n",
       "month                    0.011614  \n",
       "weekday                  0.027089  \n",
       "day                      0.003034  \n",
       "hour                    -0.038348  \n",
       "distance_in_km           1.000000  "
      ]
     },
     "execution_count": 160,
     "metadata": {},
     "output_type": "execute_result"
    }
   ],
   "source": [
    "# Correlation Metrics\n",
    "# It is used find the correlation between numerical variables\n",
    "# corr() function gives correlation between variables\n",
    "fare.corr()"
   ]
  },
  {
   "cell_type": "code",
   "execution_count": 161,
   "id": "eda65746",
   "metadata": {},
   "outputs": [
    {
     "data": {
      "text/plain": [
       "<AxesSubplot:>"
      ]
     },
     "execution_count": 161,
     "metadata": {},
     "output_type": "execute_result"
    },
    {
     "data": {
      "image/png": "[encoded data removed]",
      "text/plain": [
       "<Figure size 1080x576 with 2 Axes>"
      ]
     },
     "metadata": {},
     "output_type": "display_data"
    }
   ],
   "source": [
    "sns.set(rc={'figure.figsize': (15, 8)})\n",
    "sns.heatmap(fare.corr().round(decimals=2,), annot=True,)"
   ]
  },
  {
   "cell_type": "code",
   "execution_count": 162,
   "id": "5fa9d00a",
   "metadata": {},
   "outputs": [
    {
     "name": "stderr",
     "output_type": "stream",
     "text": [
      "*c* argument looks like a single numeric RGB or RGBA sequence, which should be avoided as value-mapping will have precedence in case its length matches with *x* & *y*.  Please use the *color* keyword-argument or provide a 2D array with a single row if you intend to specify the same RGB or RGBA value for all points.\n"
     ]
    },
    {
     "data": {
      "text/plain": [
       "<AxesSubplot:title={'center':'Relationship between Fare_amount and Distance'}, xlabel='distance_in_km', ylabel='fare_amount'>"
      ]
     },
     "execution_count": 162,
     "metadata": {},
     "output_type": "execute_result"
    },
    {
     "data": {
      "image/png": "[encoded data removed]",
      "text/plain": [
       "<Figure size 1080x576 with 1 Axes>"
      ]
     },
     "metadata": {},
     "output_type": "display_data"
    }
   ],
   "source": [
    "fare.plot.scatter(x='distance_in_km',y='fare_amount',title='Relationship between Fare_amount and Distance')"
   ]
  },
  {
   "cell_type": "markdown",
   "id": "ebbe67e4",
   "metadata": {},
   "source": [
    "* There is 84% strong positive correlation of fare ammount with distance_in_km\n",
    "* As distance_in_km is depends upon pickup_longitude, pickup_latitude, dropoff_longitude and dropoff_latitude, these variables may caused multi-collinearity."
   ]
  },
  {
   "cell_type": "code",
   "execution_count": 163,
   "id": "3f6139cb",
   "metadata": {},
   "outputs": [
    {
     "data": {
      "image/png": "[encoded data removed]",
      "text/plain": [
       "<Figure size 1440x720 with 1 Axes>"
      ]
     },
     "metadata": {},
     "output_type": "display_data"
    }
   ],
   "source": [
    "plt.figure(figsize = (20,10))\n",
    "snsplot = sns.kdeplot(fare.fare_amount, shade=True)"
   ]
  },
  {
   "cell_type": "markdown",
   "id": "15019565",
   "metadata": {},
   "source": [
    "Fare amount is ranging from 2 dollars to 25 dollars"
   ]
  },
  {
   "cell_type": "markdown",
   "id": "11d24722",
   "metadata": {},
   "source": [
    "# 6. Predictive Modeling"
   ]
  },
  {
   "cell_type": "markdown",
   "id": "e2506f0f",
   "metadata": {},
   "source": [
    "## Splitting The Data Into Trained And Test Data\n",
    "* Using sklearn we split 70% of our data into training set and rest in test set.\n",
    "* Setting random_state will give the same training and test set everytime on running the code"
   ]
  },
  {
   "cell_type": "code",
   "execution_count": null,
   "id": "a75d2053",
   "metadata": {},
   "outputs": [],
   "source": [
    "X = fare.drop('fare_amount',axis=1)\n",
    "y = fare[['fare_amount']]\n",
    "\n",
    "#random_state is the seed used by the random number generator. It can be any integer.\n",
    "from sklearn.model_selection import train_test_split\n",
    "X_train, X_test, y_train, y_test =train_test_split(X, y, train_size=0.7 ,random_state=500)"
   ]
  },
  {
   "cell_type": "code",
   "execution_count": null,
   "id": "b066f52e",
   "metadata": {},
   "outputs": [],
   "source": [
    "df = pd.concat([y_train,X_train],axis=1)\n",
    "df"
   ]
  },
  {
   "cell_type": "markdown",
   "id": "51969b1e",
   "metadata": {},
   "source": [
    "# Multicolinearity (with the help of VIF)"
   ]
  },
  {
   "cell_type": "code",
   "execution_count": null,
   "id": "89b52c2d",
   "metadata": {},
   "outputs": [],
   "source": [
    "X1=fare.drop(['fare_amount'],axis=1)\n",
    "series_before = pd.Series([variance_inflation_factor(X1.values, i) \n",
    "                           for i in range(X1.shape[1])],  # i=0,1,2\n",
    "                          index=X1.columns)  # column name\n",
    "series_before               # VIF > 10 , then collinearity exists"
   ]
  },
  {
   "cell_type": "markdown",
   "id": "deefdea2",
   "metadata": {},
   "source": [
    "No collinearity exists in the data."
   ]
  },
  {
   "cell_type": "markdown",
   "id": "c0a17290",
   "metadata": {},
   "source": [
    "# Model Building"
   ]
  },
  {
   "cell_type": "markdown",
   "id": "946fd80e",
   "metadata": {},
   "source": [
    "Ho:- There is no linear relationship between fare_amount and independent variables.\n",
    "\n",
    "Vs.\n",
    "\n",
    "H1:- There is linear relationship between fare_amount and independent variables.\n",
    "\n",
    "Alpha = 0.05"
   ]
  },
  {
   "cell_type": "markdown",
   "id": "ced2c9b9",
   "metadata": {},
   "source": [
    "### A. OLS Method"
   ]
  },
  {
   "cell_type": "code",
   "execution_count": null,
   "id": "78ea678c",
   "metadata": {},
   "outputs": [],
   "source": [
    "# build a full model using OLS()\n",
    "# consider the log of sales price as the target variable\n",
    "# use fit() to fit the model on train data\n",
    "import statsmodels.api as sm\n",
    "lrmodel_full = sm.OLS(y_train, X_train).fit()\n",
    "\n",
    "# print the summary output\n",
    "print(lrmodel_full.summary())"
   ]
  },
  {
   "cell_type": "markdown",
   "id": "25501ec5",
   "metadata": {},
   "source": [
    "Accuracy of model is 94%, so we can say that model is good fit."
   ]
  },
  {
   "cell_type": "code",
   "execution_count": null,
   "id": "5848da5e",
   "metadata": {},
   "outputs": [],
   "source": [
    "lrmodel_full_predict = pd.DataFrame(lrmodel_full.predict(X_test))\n",
    "lrmodel_full_predict"
   ]
  },
  {
   "cell_type": "code",
   "execution_count": null,
   "id": "8f271361",
   "metadata": {},
   "outputs": [],
   "source": [
    "import math\n",
    "from sklearn.metrics import mean_squared_error\n",
    "\n",
    "# calculate the mean squared error\n",
    "model_mse = mean_squared_error(y_test,lrmodel_full_predict )\n",
    "\n",
    "# calulcate the root mean squared error\n",
    "model_rmse = math.sqrt(model_mse)\n",
    "# display the output\n",
    "print(\"RMSE {:.3}\".format(model_rmse))"
   ]
  },
  {
   "cell_type": "code",
   "execution_count": null,
   "id": "6a24ff29",
   "metadata": {},
   "outputs": [],
   "source": [
    "from sklearn import metrics\n",
    "print('Mean Absolute Error:', metrics.mean_absolute_error(y_test, lrmodel_full_predict))\n",
    "#print('Mean Absolute % Error:', metrics.mean_absolute_percentage_error(y_test, y_pred))\n",
    "print('Mean Squared Error:', metrics.mean_squared_error(y_test, lrmodel_full_predict))\n",
    "print('Root Mean Squared Error:', np.sqrt(metrics.mean_squared_error(y_test, lrmodel_full_predict)))"
   ]
  },
  {
   "cell_type": "markdown",
   "id": "a4467492",
   "metadata": {},
   "source": [
    "RMSE for Linear Regression full model is 2.7 < 10, Model is good fit."
   ]
  },
  {
   "cell_type": "markdown",
   "id": "65334996",
   "metadata": {},
   "source": [
    "# B. Decision Tree"
   ]
  },
  {
   "cell_type": "code",
   "execution_count": null,
   "id": "d5ce1605",
   "metadata": {},
   "outputs": [],
   "source": [
    "#Import Tree Classifier model\n",
    "from sklearn import tree\n",
    "\n",
    "dt = tree.DecisionTreeRegressor()  # by default it use Gini index for split\n",
    "#Train the model using the training sets\n",
    "dt.fit(X_train,y_train)   # dt= model tree name"
   ]
  },
  {
   "cell_type": "code",
   "execution_count": null,
   "id": "92b5e78b",
   "metadata": {},
   "outputs": [],
   "source": [
    "dt_predict = pd.DataFrame(dt.predict(X_test))\n",
    "dt_predict"
   ]
  },
  {
   "cell_type": "code",
   "execution_count": null,
   "id": "aea876e4",
   "metadata": {},
   "outputs": [],
   "source": [
    "from sklearn import metrics\n",
    "print('Mean Absolute Error:', metrics.mean_absolute_error(y_test, dt_predict))\n",
    "#print('Mean Absolute % Error:', metrics.mean_absolute_percentage_error(y_test, y_pred))\n",
    "print('Mean Squared Error:', metrics.mean_squared_error(y_test, dt_predict))\n",
    "print('Root Mean Squared Error:', np.sqrt(metrics.mean_squared_error(y_test, dt_predict)))"
   ]
  },
  {
   "cell_type": "markdown",
   "id": "58e6b1cd",
   "metadata": {},
   "source": [
    "RMSE for Decision tree model is 3.41 , so we can say that model is good fit."
   ]
  },
  {
   "cell_type": "code",
   "execution_count": null,
   "id": "7c207613",
   "metadata": {},
   "outputs": [],
   "source": [
    "dt.score(X_train,y_train)"
   ]
  },
  {
   "cell_type": "code",
   "execution_count": null,
   "id": "c6d094b1",
   "metadata": {},
   "outputs": [],
   "source": [
    "dt.score(X_test, y_test)"
   ]
  },
  {
   "cell_type": "markdown",
   "id": "16e3c5a1",
   "metadata": {},
   "source": [
    "* Accuracy of train data is 99%, so we can say that model is overfit\n",
    "* Accuracy of test data is 60%, So model is not good fit."
   ]
  },
  {
   "cell_type": "markdown",
   "id": "920e04e3",
   "metadata": {},
   "source": [
    "# C. Decision Tree After Pruning"
   ]
  },
  {
   "cell_type": "code",
   "execution_count": null,
   "id": "64a69d6b",
   "metadata": {},
   "outputs": [],
   "source": [
    "from sklearn import tree\n",
    "\n",
    "dt = tree.DecisionTreeRegressor(criterion='mse',  #splitter\n",
    "                                 min_samples_leaf=50, ## child\n",
    "                                 min_samples_split=100, #parent \n",
    "                                 max_depth=6)  #branches\n",
    "#Train the model using the training sets\n",
    "dt.fit(X_train,y_train)"
   ]
  },
  {
   "cell_type": "code",
   "execution_count": null,
   "id": "60f87259",
   "metadata": {},
   "outputs": [],
   "source": [
    "dtp_predict = pd.DataFrame(dt.predict(X_test))\n",
    "dtp_predict"
   ]
  },
  {
   "cell_type": "code",
   "execution_count": null,
   "id": "159dab9c",
   "metadata": {},
   "outputs": [],
   "source": [
    "from sklearn import metrics\n",
    "print('Mean Absolute Error:', metrics.mean_absolute_error(y_test, dtp_predict))\n",
    "#print('Mean Absolute % Error:', metrics.mean_absolute_percentage_error(y_test, y_pred))\n",
    "print('Mean Squared Error:', metrics.mean_squared_error(y_test, dtp_predict))\n",
    "print('Root Mean Squared Error:', np.sqrt(metrics.mean_squared_error(y_test, dtp_predict)))"
   ]
  },
  {
   "cell_type": "code",
   "execution_count": null,
   "id": "cc47e803",
   "metadata": {},
   "outputs": [],
   "source": [
    "dt.score(X_train,y_train)"
   ]
  },
  {
   "cell_type": "code",
   "execution_count": null,
   "id": "c62787e3",
   "metadata": {},
   "outputs": [],
   "source": [
    "dt.score(X_test,y_test)"
   ]
  },
  {
   "cell_type": "markdown",
   "id": "b5431481",
   "metadata": {},
   "source": [
    "* Accuracy of train and test model of decision tree after pruning is 77%\n",
    "* RMSE for test data is 2.5 < 10, so we can say that model is good fit."
   ]
  },
  {
   "cell_type": "markdown",
   "id": "c629af0e",
   "metadata": {},
   "source": [
    "# D. Random Forest"
   ]
  },
  {
   "cell_type": "code",
   "execution_count": null,
   "id": "273b4767",
   "metadata": {},
   "outputs": [],
   "source": [
    "from sklearn.ensemble import RandomForestRegressor\n",
    "from sklearn.ensemble import RandomForestClassifier\n",
    "\n",
    "# by default 100 tree will be form \n",
    "Model = RandomForestRegressor(max_depth=3)# n_estimators means number tree we want  \n",
    "\n",
    "Model.fit(X_train, y_train)"
   ]
  },
  {
   "cell_type": "code",
   "execution_count": null,
   "id": "697d7f26",
   "metadata": {},
   "outputs": [],
   "source": [
    "rf_predict = pd.DataFrame(Model.predict(X_test))\n",
    "rf_predict"
   ]
  },
  {
   "cell_type": "code",
   "execution_count": null,
   "id": "6a52c0e3",
   "metadata": {},
   "outputs": [],
   "source": [
    "from sklearn import metrics\n",
    "print('Mean Absolute Error:', metrics.mean_absolute_error(y_test, rf_predict))\n",
    "#print('Mean Absolute % Error:', metrics.mean_absolute_percentage_error(y_test, y_pred))\n",
    "print('Mean Squared Error:', metrics.mean_squared_error(y_test, rf_predict))\n",
    "print('Root Mean Squared Error:', np.sqrt(metrics.mean_squared_error(y_test, rf_predict)))"
   ]
  },
  {
   "cell_type": "markdown",
   "id": "6b6a7ce1",
   "metadata": {},
   "source": [
    "RMSE for Random Forest model is 2.78 < 10, so we can say that model is good fit."
   ]
  },
  {
   "cell_type": "code",
   "execution_count": null,
   "id": "e004d394",
   "metadata": {},
   "outputs": [],
   "source": [
    "Model.score(X_train, y_train)"
   ]
  },
  {
   "cell_type": "code",
   "execution_count": null,
   "id": "aed5d161",
   "metadata": {},
   "outputs": [],
   "source": [
    "Model.score(X_test,y_test)"
   ]
  },
  {
   "cell_type": "markdown",
   "id": "a6e38125",
   "metadata": {},
   "source": [
    "Accuracy for Random Forest model is 74% , so we can say that model is not good fit."
   ]
  },
  {
   "cell_type": "markdown",
   "id": "b5759977",
   "metadata": {},
   "source": [
    "# Comparison of Models"
   ]
  },
  {
   "cell_type": "code",
   "execution_count": null,
   "id": "58ec6e39",
   "metadata": {},
   "outputs": [],
   "source": [
    "Comparison_of_Model = pd.DataFrame({'Model':['Linear Regression','Decision Tree', 'Decision Tree with Pruning' ,'Random_forest'],\n",
    "                      'Accuracy of Model':[94,60,77,74],\n",
    "                      'RMSE':[2.78,3.41,2.57,2.77]})\n",
    "\n",
    "Comparison_of_Model"
   ]
  },
  {
   "cell_type": "code",
   "execution_count": null,
   "id": "aac0da82",
   "metadata": {},
   "outputs": [],
   "source": [
    "Comparison_of_Model.plot(kind=\"bar\",figsize=(15, 8))\n",
    "\n",
    "plt.title(\"Accuracy_Of_Model\")\n",
    "\n",
    "plt.xlabel(\"Linear Regression ,Decision Tree , Decision Tree with Pruning , Random_forest \")"
   ]
  },
  {
   "cell_type": "markdown",
   "id": "6032c664",
   "metadata": {},
   "source": [
    "* From graph it is concluded that, Linear regression is best model for uber fare prediction. As it gives highest accuracy and RMSE.\n",
    "* Decision tree after purning also gives less RMSE value but accuracy is less in that case, and it also leads to overfitting.\n",
    "* After considering all drawbacks of other algorithm Linear regression is best suited algorithm for fare prediction."
   ]
  },
  {
   "cell_type": "markdown",
   "id": "1ed2fc93",
   "metadata": {},
   "source": [
    "# 7. Project Outcomes & Conclusion"
   ]
  },
  {
   "cell_type": "markdown",
   "id": "1eb41932",
   "metadata": {},
   "source": [
    "* As dataset was large containing 200000 entries, EDA is performed on it and unnecessory samples removed from the dataset.\n",
    "* From visualizaion it is seen that demand of taxi is less in early morning near about 4 am to 6 am.\n",
    "* Multiple algortithms are applied on dataset to find out best one giving high accuracy and low RMSe.\n",
    "* Linear regression is best suitable algorithm for uber fare prediction according to results."
   ]
  },
  {
   "cell_type": "markdown",
   "id": "34b2d795",
   "metadata": {},
   "source": [
    "# Completed"
   ]
  }
 ],
 "metadata": {
  "kernelspec": {
   "display_name": "Python 3 (ipykernel)",
   "language": "python",
   "name": "python3"
  },
  "language_info": {
   "codemirror_mode": {
    "name": "ipython",
    "version": 3
   },
   "file_extension": ".py",
   "mimetype": "text/x-python",
   "name": "python",
   "nbconvert_exporter": "python",
   "pygments_lexer": "ipython3",
   "version": "3.9.7"
  }
 },
 "nbformat": 4,
 "nbformat_minor": 5
}
